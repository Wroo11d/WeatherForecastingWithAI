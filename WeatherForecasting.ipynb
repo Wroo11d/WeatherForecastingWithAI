{
  "nbformat": 4,
  "nbformat_minor": 0,
  "metadata": {
    "colab": {
      "provenance": []
    },
    "kernelspec": {
      "name": "python3",
      "display_name": "Python 3"
    },
    "language_info": {
      "name": "python"
    },
    "accelerator": "GPU",
    "gpuClass": "standard"
  },
  "cells": [
    {
      "cell_type": "markdown",
      "source": [
        "#Version two\n",
        "Here is version of code which forecast the weather using AI (Artificial Intelligene), this code is feasible. the data obtained contains the cities and weather condition informations. The city Madrid was picked to train since it has less missing values. the model can be trained with other data (ex:iraqi data)."
      ],
      "metadata": {
        "id": "ngB2HqbxgbN4"
      }
    },
    {
      "cell_type": "markdown",
      "source": [
        "## Import all necessary libraries"
      ],
      "metadata": {
        "id": "OdWRqTck-gag"
      }
    },
    {
      "cell_type": "code",
      "execution_count": 1,
      "metadata": {
        "id": "2XdLUb2o77hy"
      },
      "outputs": [],
      "source": [
        "import pandas as pd\n",
        "import numpy as np\n",
        "import tensorflow as tf\n",
        "import matplotlib.pyplot as plt\n",
        "from sklearn import model_selection, preprocessing\n"
      ]
    },
    {
      "cell_type": "markdown",
      "source": [
        "## Download the dataset\n",
        "the data downloaded from kaggle ehich is website and community that provide a variety of datasets can be used for studies, research and educational purposes.\n",
        "  https://www.kaggle.com/datasets"
      ],
      "metadata": {
        "id": "Gz4lLqbM_MdD"
      }
    },
    {
      "cell_type": "code",
      "source": [
        "! pip install kaggle\n",
        "! mkdir ~/.kaggle\n",
        "! cp kaggle.json ~/.kaggle/\n",
        "! chmod 600 ~/.kaggle/kaggle.json"
      ],
      "metadata": {
        "id": "MhUT3TcJ-lx0",
        "colab": {
          "base_uri": "https://localhost:8080/"
        },
        "outputId": "5b95cbb3-f48d-4a5f-80d4-3b0171dedfcb"
      },
      "execution_count": 2,
      "outputs": [
        {
          "output_type": "stream",
          "name": "stdout",
          "text": [
            "Looking in indexes: https://pypi.org/simple, https://us-python.pkg.dev/colab-wheels/public/simple/\n",
            "Requirement already satisfied: kaggle in /usr/local/lib/python3.10/dist-packages (1.5.13)\n",
            "Requirement already satisfied: six>=1.10 in /usr/local/lib/python3.10/dist-packages (from kaggle) (1.16.0)\n",
            "Requirement already satisfied: certifi in /usr/local/lib/python3.10/dist-packages (from kaggle) (2022.12.7)\n",
            "Requirement already satisfied: python-dateutil in /usr/local/lib/python3.10/dist-packages (from kaggle) (2.8.2)\n",
            "Requirement already satisfied: requests in /usr/local/lib/python3.10/dist-packages (from kaggle) (2.27.1)\n",
            "Requirement already satisfied: tqdm in /usr/local/lib/python3.10/dist-packages (from kaggle) (4.65.0)\n",
            "Requirement already satisfied: python-slugify in /usr/local/lib/python3.10/dist-packages (from kaggle) (8.0.1)\n",
            "Requirement already satisfied: urllib3 in /usr/local/lib/python3.10/dist-packages (from kaggle) (1.26.15)\n",
            "Requirement already satisfied: text-unidecode>=1.3 in /usr/local/lib/python3.10/dist-packages (from python-slugify->kaggle) (1.3)\n",
            "Requirement already satisfied: charset-normalizer~=2.0.0 in /usr/local/lib/python3.10/dist-packages (from requests->kaggle) (2.0.12)\n",
            "Requirement already satisfied: idna<4,>=2.5 in /usr/local/lib/python3.10/dist-packages (from requests->kaggle) (3.4)\n"
          ]
        }
      ]
    },
    {
      "cell_type": "code",
      "source": [
        "! kaggle datasets download -d sudalairajkumar/daily-temperature-of-major-cities"
      ],
      "metadata": {
        "id": "lSeiMQOrv7sX",
        "colab": {
          "base_uri": "https://localhost:8080/"
        },
        "outputId": "c913b3d7-7f63-4117-bf55-047c7c921d89"
      },
      "execution_count": 3,
      "outputs": [
        {
          "output_type": "stream",
          "name": "stdout",
          "text": [
            "Downloading daily-temperature-of-major-cities.zip to /content\n",
            "100% 12.9M/12.9M [00:01<00:00, 15.3MB/s]\n",
            "100% 12.9M/12.9M [00:01<00:00, 8.51MB/s]\n"
          ]
        }
      ]
    },
    {
      "cell_type": "code",
      "source": [
        "! unzip /content/daily-temperature-of-major-cities.zip"
      ],
      "metadata": {
        "id": "9PsRCg6P_VA_",
        "colab": {
          "base_uri": "https://localhost:8080/"
        },
        "outputId": "0abc0769-1a1c-45af-e934-d6d570e83963"
      },
      "execution_count": 4,
      "outputs": [
        {
          "output_type": "stream",
          "name": "stdout",
          "text": [
            "Archive:  /content/daily-temperature-of-major-cities.zip\n",
            "  inflating: city_temperature.csv    \n"
          ]
        }
      ]
    },
    {
      "cell_type": "markdown",
      "source": [
        "## Read the dataset"
      ],
      "metadata": {
        "id": "v1tUezw1kzFl"
      }
    },
    {
      "cell_type": "code",
      "source": [
        "dataset = pd.read_csv(\"/content/city_temperature.csv\")"
      ],
      "metadata": {
        "id": "IpqMlj5Yk1V7",
        "colab": {
          "base_uri": "https://localhost:8080/"
        },
        "outputId": "285e5982-36d5-4abb-d581-7c50c1ee8220"
      },
      "execution_count": null,
      "outputs": [
        {
          "output_type": "stream",
          "name": "stderr",
          "text": [
            "<ipython-input-9-f469bb888b7a>:1: DtypeWarning: Columns (2) have mixed types. Specify dtype option on import or set low_memory=False.\n",
            "  dataset = pd.read_csv(\"/content/city_temperature.csv\")\n"
          ]
        }
      ]
    },
    {
      "cell_type": "code",
      "source": [
        "dataset"
      ],
      "metadata": {
        "id": "HldHODXtz-SP",
        "colab": {
          "base_uri": "https://localhost:8080/",
          "height": 424
        },
        "outputId": "3ab76ae8-f433-4052-b24e-b3f73205ac67"
      },
      "execution_count": null,
      "outputs": [
        {
          "output_type": "execute_result",
          "data": {
            "text/plain": [
              "                Region  Country                   State                  City  \\\n",
              "0               Africa  Algeria                     NaN               Algiers   \n",
              "1               Africa  Algeria                     NaN               Algiers   \n",
              "2               Africa  Algeria                     NaN               Algiers   \n",
              "3               Africa  Algeria                     NaN               Algiers   \n",
              "4               Africa  Algeria                     NaN               Algiers   \n",
              "...                ...      ...                     ...                   ...   \n",
              "2906322  North America       US  Additional Territories  San Juan Puerto Rico   \n",
              "2906323  North America       US  Additional Territories  San Juan Puerto Rico   \n",
              "2906324  North America       US  Additional Territories  San Juan Puerto Rico   \n",
              "2906325  North America       US  Additional Territories  San Juan Puerto Rico   \n",
              "2906326  North America       US  Additional Territories  San Juan Puerto Rico   \n",
              "\n",
              "         Month  Day  Year  AvgTemperature  \n",
              "0            1    1  1995            64.2  \n",
              "1            1    2  1995            49.4  \n",
              "2            1    3  1995            48.8  \n",
              "3            1    4  1995            46.4  \n",
              "4            1    5  1995            47.9  \n",
              "...        ...  ...   ...             ...  \n",
              "2906322      7   27  2013            82.4  \n",
              "2906323      7   28  2013            81.6  \n",
              "2906324      7   29  2013            84.2  \n",
              "2906325      7   30  2013            83.8  \n",
              "2906326      7   31  2013            83.6  \n",
              "\n",
              "[2906327 rows x 8 columns]"
            ],
            "text/html": [
              "\n",
              "  <div id=\"df-327939aa-f1b4-46a4-90fd-e1b137241a1c\">\n",
              "    <div class=\"colab-df-container\">\n",
              "      <div>\n",
              "<style scoped>\n",
              "    .dataframe tbody tr th:only-of-type {\n",
              "        vertical-align: middle;\n",
              "    }\n",
              "\n",
              "    .dataframe tbody tr th {\n",
              "        vertical-align: top;\n",
              "    }\n",
              "\n",
              "    .dataframe thead th {\n",
              "        text-align: right;\n",
              "    }\n",
              "</style>\n",
              "<table border=\"1\" class=\"dataframe\">\n",
              "  <thead>\n",
              "    <tr style=\"text-align: right;\">\n",
              "      <th></th>\n",
              "      <th>Region</th>\n",
              "      <th>Country</th>\n",
              "      <th>State</th>\n",
              "      <th>City</th>\n",
              "      <th>Month</th>\n",
              "      <th>Day</th>\n",
              "      <th>Year</th>\n",
              "      <th>AvgTemperature</th>\n",
              "    </tr>\n",
              "  </thead>\n",
              "  <tbody>\n",
              "    <tr>\n",
              "      <th>0</th>\n",
              "      <td>Africa</td>\n",
              "      <td>Algeria</td>\n",
              "      <td>NaN</td>\n",
              "      <td>Algiers</td>\n",
              "      <td>1</td>\n",
              "      <td>1</td>\n",
              "      <td>1995</td>\n",
              "      <td>64.2</td>\n",
              "    </tr>\n",
              "    <tr>\n",
              "      <th>1</th>\n",
              "      <td>Africa</td>\n",
              "      <td>Algeria</td>\n",
              "      <td>NaN</td>\n",
              "      <td>Algiers</td>\n",
              "      <td>1</td>\n",
              "      <td>2</td>\n",
              "      <td>1995</td>\n",
              "      <td>49.4</td>\n",
              "    </tr>\n",
              "    <tr>\n",
              "      <th>2</th>\n",
              "      <td>Africa</td>\n",
              "      <td>Algeria</td>\n",
              "      <td>NaN</td>\n",
              "      <td>Algiers</td>\n",
              "      <td>1</td>\n",
              "      <td>3</td>\n",
              "      <td>1995</td>\n",
              "      <td>48.8</td>\n",
              "    </tr>\n",
              "    <tr>\n",
              "      <th>3</th>\n",
              "      <td>Africa</td>\n",
              "      <td>Algeria</td>\n",
              "      <td>NaN</td>\n",
              "      <td>Algiers</td>\n",
              "      <td>1</td>\n",
              "      <td>4</td>\n",
              "      <td>1995</td>\n",
              "      <td>46.4</td>\n",
              "    </tr>\n",
              "    <tr>\n",
              "      <th>4</th>\n",
              "      <td>Africa</td>\n",
              "      <td>Algeria</td>\n",
              "      <td>NaN</td>\n",
              "      <td>Algiers</td>\n",
              "      <td>1</td>\n",
              "      <td>5</td>\n",
              "      <td>1995</td>\n",
              "      <td>47.9</td>\n",
              "    </tr>\n",
              "    <tr>\n",
              "      <th>...</th>\n",
              "      <td>...</td>\n",
              "      <td>...</td>\n",
              "      <td>...</td>\n",
              "      <td>...</td>\n",
              "      <td>...</td>\n",
              "      <td>...</td>\n",
              "      <td>...</td>\n",
              "      <td>...</td>\n",
              "    </tr>\n",
              "    <tr>\n",
              "      <th>2906322</th>\n",
              "      <td>North America</td>\n",
              "      <td>US</td>\n",
              "      <td>Additional Territories</td>\n",
              "      <td>San Juan Puerto Rico</td>\n",
              "      <td>7</td>\n",
              "      <td>27</td>\n",
              "      <td>2013</td>\n",
              "      <td>82.4</td>\n",
              "    </tr>\n",
              "    <tr>\n",
              "      <th>2906323</th>\n",
              "      <td>North America</td>\n",
              "      <td>US</td>\n",
              "      <td>Additional Territories</td>\n",
              "      <td>San Juan Puerto Rico</td>\n",
              "      <td>7</td>\n",
              "      <td>28</td>\n",
              "      <td>2013</td>\n",
              "      <td>81.6</td>\n",
              "    </tr>\n",
              "    <tr>\n",
              "      <th>2906324</th>\n",
              "      <td>North America</td>\n",
              "      <td>US</td>\n",
              "      <td>Additional Territories</td>\n",
              "      <td>San Juan Puerto Rico</td>\n",
              "      <td>7</td>\n",
              "      <td>29</td>\n",
              "      <td>2013</td>\n",
              "      <td>84.2</td>\n",
              "    </tr>\n",
              "    <tr>\n",
              "      <th>2906325</th>\n",
              "      <td>North America</td>\n",
              "      <td>US</td>\n",
              "      <td>Additional Territories</td>\n",
              "      <td>San Juan Puerto Rico</td>\n",
              "      <td>7</td>\n",
              "      <td>30</td>\n",
              "      <td>2013</td>\n",
              "      <td>83.8</td>\n",
              "    </tr>\n",
              "    <tr>\n",
              "      <th>2906326</th>\n",
              "      <td>North America</td>\n",
              "      <td>US</td>\n",
              "      <td>Additional Territories</td>\n",
              "      <td>San Juan Puerto Rico</td>\n",
              "      <td>7</td>\n",
              "      <td>31</td>\n",
              "      <td>2013</td>\n",
              "      <td>83.6</td>\n",
              "    </tr>\n",
              "  </tbody>\n",
              "</table>\n",
              "<p>2906327 rows × 8 columns</p>\n",
              "</div>\n",
              "      <button class=\"colab-df-convert\" onclick=\"convertToInteractive('df-327939aa-f1b4-46a4-90fd-e1b137241a1c')\"\n",
              "              title=\"Convert this dataframe to an interactive table.\"\n",
              "              style=\"display:none;\">\n",
              "        \n",
              "  <svg xmlns=\"http://www.w3.org/2000/svg\" height=\"24px\"viewBox=\"0 0 24 24\"\n",
              "       width=\"24px\">\n",
              "    <path d=\"M0 0h24v24H0V0z\" fill=\"none\"/>\n",
              "    <path d=\"M18.56 5.44l.94 2.06.94-2.06 2.06-.94-2.06-.94-.94-2.06-.94 2.06-2.06.94zm-11 1L8.5 8.5l.94-2.06 2.06-.94-2.06-.94L8.5 2.5l-.94 2.06-2.06.94zm10 10l.94 2.06.94-2.06 2.06-.94-2.06-.94-.94-2.06-.94 2.06-2.06.94z\"/><path d=\"M17.41 7.96l-1.37-1.37c-.4-.4-.92-.59-1.43-.59-.52 0-1.04.2-1.43.59L10.3 9.45l-7.72 7.72c-.78.78-.78 2.05 0 2.83L4 21.41c.39.39.9.59 1.41.59.51 0 1.02-.2 1.41-.59l7.78-7.78 2.81-2.81c.8-.78.8-2.07 0-2.86zM5.41 20L4 18.59l7.72-7.72 1.47 1.35L5.41 20z\"/>\n",
              "  </svg>\n",
              "      </button>\n",
              "      \n",
              "  <style>\n",
              "    .colab-df-container {\n",
              "      display:flex;\n",
              "      flex-wrap:wrap;\n",
              "      gap: 12px;\n",
              "    }\n",
              "\n",
              "    .colab-df-convert {\n",
              "      background-color: #E8F0FE;\n",
              "      border: none;\n",
              "      border-radius: 50%;\n",
              "      cursor: pointer;\n",
              "      display: none;\n",
              "      fill: #1967D2;\n",
              "      height: 32px;\n",
              "      padding: 0 0 0 0;\n",
              "      width: 32px;\n",
              "    }\n",
              "\n",
              "    .colab-df-convert:hover {\n",
              "      background-color: #E2EBFA;\n",
              "      box-shadow: 0px 1px 2px rgba(60, 64, 67, 0.3), 0px 1px 3px 1px rgba(60, 64, 67, 0.15);\n",
              "      fill: #174EA6;\n",
              "    }\n",
              "\n",
              "    [theme=dark] .colab-df-convert {\n",
              "      background-color: #3B4455;\n",
              "      fill: #D2E3FC;\n",
              "    }\n",
              "\n",
              "    [theme=dark] .colab-df-convert:hover {\n",
              "      background-color: #434B5C;\n",
              "      box-shadow: 0px 1px 3px 1px rgba(0, 0, 0, 0.15);\n",
              "      filter: drop-shadow(0px 1px 2px rgba(0, 0, 0, 0.3));\n",
              "      fill: #FFFFFF;\n",
              "    }\n",
              "  </style>\n",
              "\n",
              "      <script>\n",
              "        const buttonEl =\n",
              "          document.querySelector('#df-327939aa-f1b4-46a4-90fd-e1b137241a1c button.colab-df-convert');\n",
              "        buttonEl.style.display =\n",
              "          google.colab.kernel.accessAllowed ? 'block' : 'none';\n",
              "\n",
              "        async function convertToInteractive(key) {\n",
              "          const element = document.querySelector('#df-327939aa-f1b4-46a4-90fd-e1b137241a1c');\n",
              "          const dataTable =\n",
              "            await google.colab.kernel.invokeFunction('convertToInteractive',\n",
              "                                                     [key], {});\n",
              "          if (!dataTable) return;\n",
              "\n",
              "          const docLinkHtml = 'Like what you see? Visit the ' +\n",
              "            '<a target=\"_blank\" href=https://colab.research.google.com/notebooks/data_table.ipynb>data table notebook</a>'\n",
              "            + ' to learn more about interactive tables.';\n",
              "          element.innerHTML = '';\n",
              "          dataTable['output_type'] = 'display_data';\n",
              "          await google.colab.output.renderOutput(dataTable, element);\n",
              "          const docLink = document.createElement('div');\n",
              "          docLink.innerHTML = docLinkHtml;\n",
              "          element.appendChild(docLink);\n",
              "        }\n",
              "      </script>\n",
              "    </div>\n",
              "  </div>\n",
              "  "
            ]
          },
          "metadata": {},
          "execution_count": 10
        }
      ]
    },
    {
      "cell_type": "markdown",
      "source": [
        "## Prepare the data\n",
        "\n",
        "\n",
        "\n",
        "*   Using the data from Spain using the query method in the Country column.\n",
        "*   Dropping the columns that are not required.\n",
        "*   Normalize the datase.\n",
        "*   Plot the histagram of the dataset before and after the normalization."
      ],
      "metadata": {
        "id": "b0kq39YLizgs"
      }
    },
    {
      "cell_type": "code",
      "source": [
        "dataset.query('Country == \"Spain\" and City ==\"Madrid\"', inplace = True)\n"
      ],
      "metadata": {
        "id": "7-28jlqFPpq2"
      },
      "execution_count": null,
      "outputs": []
    },
    {
      "cell_type": "code",
      "source": [
        "dataset"
      ],
      "metadata": {
        "id": "s49Cx4azPp0g",
        "colab": {
          "base_uri": "https://localhost:8080/",
          "height": 424
        },
        "outputId": "1e11ed7d-cee1-41ba-890f-8e91108693fb"
      },
      "execution_count": null,
      "outputs": [
        {
          "output_type": "execute_result",
          "data": {
            "text/plain": [
              "        Region Country State    City  Month  Day  Year  AvgTemperature\n",
              "921973  Europe   Spain   NaN  Madrid      1    1  1995            45.9\n",
              "921974  Europe   Spain   NaN  Madrid      1    2  1995            40.0\n",
              "921975  Europe   Spain   NaN  Madrid      1    3  1995            34.1\n",
              "921976  Europe   Spain   NaN  Madrid      1    4  1995            37.0\n",
              "921977  Europe   Spain   NaN  Madrid      1    5  1995            43.1\n",
              "...        ...     ...   ...     ...    ...  ...   ...             ...\n",
              "931234  Europe   Spain   NaN  Madrid      5    9  2020            67.0\n",
              "931235  Europe   Spain   NaN  Madrid      5   10  2020            60.1\n",
              "931236  Europe   Spain   NaN  Madrid      5   11  2020            60.6\n",
              "931237  Europe   Spain   NaN  Madrid      5   12  2020            55.3\n",
              "931238  Europe   Spain   NaN  Madrid      5   13  2020            51.7\n",
              "\n",
              "[9266 rows x 8 columns]"
            ],
            "text/html": [
              "\n",
              "  <div id=\"df-cc948605-9497-4a14-b29d-5ee898ffcebc\">\n",
              "    <div class=\"colab-df-container\">\n",
              "      <div>\n",
              "<style scoped>\n",
              "    .dataframe tbody tr th:only-of-type {\n",
              "        vertical-align: middle;\n",
              "    }\n",
              "\n",
              "    .dataframe tbody tr th {\n",
              "        vertical-align: top;\n",
              "    }\n",
              "\n",
              "    .dataframe thead th {\n",
              "        text-align: right;\n",
              "    }\n",
              "</style>\n",
              "<table border=\"1\" class=\"dataframe\">\n",
              "  <thead>\n",
              "    <tr style=\"text-align: right;\">\n",
              "      <th></th>\n",
              "      <th>Region</th>\n",
              "      <th>Country</th>\n",
              "      <th>State</th>\n",
              "      <th>City</th>\n",
              "      <th>Month</th>\n",
              "      <th>Day</th>\n",
              "      <th>Year</th>\n",
              "      <th>AvgTemperature</th>\n",
              "    </tr>\n",
              "  </thead>\n",
              "  <tbody>\n",
              "    <tr>\n",
              "      <th>921973</th>\n",
              "      <td>Europe</td>\n",
              "      <td>Spain</td>\n",
              "      <td>NaN</td>\n",
              "      <td>Madrid</td>\n",
              "      <td>1</td>\n",
              "      <td>1</td>\n",
              "      <td>1995</td>\n",
              "      <td>45.9</td>\n",
              "    </tr>\n",
              "    <tr>\n",
              "      <th>921974</th>\n",
              "      <td>Europe</td>\n",
              "      <td>Spain</td>\n",
              "      <td>NaN</td>\n",
              "      <td>Madrid</td>\n",
              "      <td>1</td>\n",
              "      <td>2</td>\n",
              "      <td>1995</td>\n",
              "      <td>40.0</td>\n",
              "    </tr>\n",
              "    <tr>\n",
              "      <th>921975</th>\n",
              "      <td>Europe</td>\n",
              "      <td>Spain</td>\n",
              "      <td>NaN</td>\n",
              "      <td>Madrid</td>\n",
              "      <td>1</td>\n",
              "      <td>3</td>\n",
              "      <td>1995</td>\n",
              "      <td>34.1</td>\n",
              "    </tr>\n",
              "    <tr>\n",
              "      <th>921976</th>\n",
              "      <td>Europe</td>\n",
              "      <td>Spain</td>\n",
              "      <td>NaN</td>\n",
              "      <td>Madrid</td>\n",
              "      <td>1</td>\n",
              "      <td>4</td>\n",
              "      <td>1995</td>\n",
              "      <td>37.0</td>\n",
              "    </tr>\n",
              "    <tr>\n",
              "      <th>921977</th>\n",
              "      <td>Europe</td>\n",
              "      <td>Spain</td>\n",
              "      <td>NaN</td>\n",
              "      <td>Madrid</td>\n",
              "      <td>1</td>\n",
              "      <td>5</td>\n",
              "      <td>1995</td>\n",
              "      <td>43.1</td>\n",
              "    </tr>\n",
              "    <tr>\n",
              "      <th>...</th>\n",
              "      <td>...</td>\n",
              "      <td>...</td>\n",
              "      <td>...</td>\n",
              "      <td>...</td>\n",
              "      <td>...</td>\n",
              "      <td>...</td>\n",
              "      <td>...</td>\n",
              "      <td>...</td>\n",
              "    </tr>\n",
              "    <tr>\n",
              "      <th>931234</th>\n",
              "      <td>Europe</td>\n",
              "      <td>Spain</td>\n",
              "      <td>NaN</td>\n",
              "      <td>Madrid</td>\n",
              "      <td>5</td>\n",
              "      <td>9</td>\n",
              "      <td>2020</td>\n",
              "      <td>67.0</td>\n",
              "    </tr>\n",
              "    <tr>\n",
              "      <th>931235</th>\n",
              "      <td>Europe</td>\n",
              "      <td>Spain</td>\n",
              "      <td>NaN</td>\n",
              "      <td>Madrid</td>\n",
              "      <td>5</td>\n",
              "      <td>10</td>\n",
              "      <td>2020</td>\n",
              "      <td>60.1</td>\n",
              "    </tr>\n",
              "    <tr>\n",
              "      <th>931236</th>\n",
              "      <td>Europe</td>\n",
              "      <td>Spain</td>\n",
              "      <td>NaN</td>\n",
              "      <td>Madrid</td>\n",
              "      <td>5</td>\n",
              "      <td>11</td>\n",
              "      <td>2020</td>\n",
              "      <td>60.6</td>\n",
              "    </tr>\n",
              "    <tr>\n",
              "      <th>931237</th>\n",
              "      <td>Europe</td>\n",
              "      <td>Spain</td>\n",
              "      <td>NaN</td>\n",
              "      <td>Madrid</td>\n",
              "      <td>5</td>\n",
              "      <td>12</td>\n",
              "      <td>2020</td>\n",
              "      <td>55.3</td>\n",
              "    </tr>\n",
              "    <tr>\n",
              "      <th>931238</th>\n",
              "      <td>Europe</td>\n",
              "      <td>Spain</td>\n",
              "      <td>NaN</td>\n",
              "      <td>Madrid</td>\n",
              "      <td>5</td>\n",
              "      <td>13</td>\n",
              "      <td>2020</td>\n",
              "      <td>51.7</td>\n",
              "    </tr>\n",
              "  </tbody>\n",
              "</table>\n",
              "<p>9266 rows × 8 columns</p>\n",
              "</div>\n",
              "      <button class=\"colab-df-convert\" onclick=\"convertToInteractive('df-cc948605-9497-4a14-b29d-5ee898ffcebc')\"\n",
              "              title=\"Convert this dataframe to an interactive table.\"\n",
              "              style=\"display:none;\">\n",
              "        \n",
              "  <svg xmlns=\"http://www.w3.org/2000/svg\" height=\"24px\"viewBox=\"0 0 24 24\"\n",
              "       width=\"24px\">\n",
              "    <path d=\"M0 0h24v24H0V0z\" fill=\"none\"/>\n",
              "    <path d=\"M18.56 5.44l.94 2.06.94-2.06 2.06-.94-2.06-.94-.94-2.06-.94 2.06-2.06.94zm-11 1L8.5 8.5l.94-2.06 2.06-.94-2.06-.94L8.5 2.5l-.94 2.06-2.06.94zm10 10l.94 2.06.94-2.06 2.06-.94-2.06-.94-.94-2.06-.94 2.06-2.06.94z\"/><path d=\"M17.41 7.96l-1.37-1.37c-.4-.4-.92-.59-1.43-.59-.52 0-1.04.2-1.43.59L10.3 9.45l-7.72 7.72c-.78.78-.78 2.05 0 2.83L4 21.41c.39.39.9.59 1.41.59.51 0 1.02-.2 1.41-.59l7.78-7.78 2.81-2.81c.8-.78.8-2.07 0-2.86zM5.41 20L4 18.59l7.72-7.72 1.47 1.35L5.41 20z\"/>\n",
              "  </svg>\n",
              "      </button>\n",
              "      \n",
              "  <style>\n",
              "    .colab-df-container {\n",
              "      display:flex;\n",
              "      flex-wrap:wrap;\n",
              "      gap: 12px;\n",
              "    }\n",
              "\n",
              "    .colab-df-convert {\n",
              "      background-color: #E8F0FE;\n",
              "      border: none;\n",
              "      border-radius: 50%;\n",
              "      cursor: pointer;\n",
              "      display: none;\n",
              "      fill: #1967D2;\n",
              "      height: 32px;\n",
              "      padding: 0 0 0 0;\n",
              "      width: 32px;\n",
              "    }\n",
              "\n",
              "    .colab-df-convert:hover {\n",
              "      background-color: #E2EBFA;\n",
              "      box-shadow: 0px 1px 2px rgba(60, 64, 67, 0.3), 0px 1px 3px 1px rgba(60, 64, 67, 0.15);\n",
              "      fill: #174EA6;\n",
              "    }\n",
              "\n",
              "    [theme=dark] .colab-df-convert {\n",
              "      background-color: #3B4455;\n",
              "      fill: #D2E3FC;\n",
              "    }\n",
              "\n",
              "    [theme=dark] .colab-df-convert:hover {\n",
              "      background-color: #434B5C;\n",
              "      box-shadow: 0px 1px 3px 1px rgba(0, 0, 0, 0.15);\n",
              "      filter: drop-shadow(0px 1px 2px rgba(0, 0, 0, 0.3));\n",
              "      fill: #FFFFFF;\n",
              "    }\n",
              "  </style>\n",
              "\n",
              "      <script>\n",
              "        const buttonEl =\n",
              "          document.querySelector('#df-cc948605-9497-4a14-b29d-5ee898ffcebc button.colab-df-convert');\n",
              "        buttonEl.style.display =\n",
              "          google.colab.kernel.accessAllowed ? 'block' : 'none';\n",
              "\n",
              "        async function convertToInteractive(key) {\n",
              "          const element = document.querySelector('#df-cc948605-9497-4a14-b29d-5ee898ffcebc');\n",
              "          const dataTable =\n",
              "            await google.colab.kernel.invokeFunction('convertToInteractive',\n",
              "                                                     [key], {});\n",
              "          if (!dataTable) return;\n",
              "\n",
              "          const docLinkHtml = 'Like what you see? Visit the ' +\n",
              "            '<a target=\"_blank\" href=https://colab.research.google.com/notebooks/data_table.ipynb>data table notebook</a>'\n",
              "            + ' to learn more about interactive tables.';\n",
              "          element.innerHTML = '';\n",
              "          dataTable['output_type'] = 'display_data';\n",
              "          await google.colab.output.renderOutput(dataTable, element);\n",
              "          const docLink = document.createElement('div');\n",
              "          docLink.innerHTML = docLinkHtml;\n",
              "          element.appendChild(docLink);\n",
              "        }\n",
              "      </script>\n",
              "    </div>\n",
              "  </div>\n",
              "  "
            ]
          },
          "metadata": {},
          "execution_count": 12
        }
      ]
    },
    {
      "cell_type": "code",
      "source": [
        "dataset['AvgTemperature'].hist()"
      ],
      "metadata": {
        "id": "1l0yZ_ssU9e7",
        "colab": {
          "base_uri": "https://localhost:8080/",
          "height": 447
        },
        "outputId": "bc3fb986-daa9-4fb6-e1ee-37158bb4e0ab"
      },
      "execution_count": null,
      "outputs": [
        {
          "output_type": "execute_result",
          "data": {
            "text/plain": [
              "<Axes: >"
            ]
          },
          "metadata": {},
          "execution_count": 13
        },
        {
          "output_type": "display_data",
          "data": {
            "text/plain": [
              "<Figure size 640x480 with 1 Axes>"
            ],
            "image/png": "[encoded data removed]"
          },
          "metadata": {}
        }
      ]
    },
    {
      "cell_type": "code",
      "source": [
        "dataset.isnull().sum()"
      ],
      "metadata": {
        "id": "bG_3rlLz0D35",
        "colab": {
          "base_uri": "https://localhost:8080/"
        },
        "outputId": "d5b88c17-3760-4669-fc4c-16dab7266dfe"
      },
      "execution_count": null,
      "outputs": [
        {
          "output_type": "execute_result",
          "data": {
            "text/plain": [
              "Region               0\n",
              "Country              0\n",
              "State             9266\n",
              "City                 0\n",
              "Month                0\n",
              "Day                  0\n",
              "Year                 0\n",
              "AvgTemperature       0\n",
              "dtype: int64"
            ]
          },
          "metadata": {},
          "execution_count": 14
        }
      ]
    },
    {
      "cell_type": "code",
      "source": [
        "dataset.drop(columns=[\"Region\", \"State\", \"City\", \"Month\", \"Day\", \"Year\"], inplace=True)"
      ],
      "metadata": {
        "id": "YFcx0j7WlMz5"
      },
      "execution_count": null,
      "outputs": []
    },
    {
      "cell_type": "code",
      "source": [
        "x_normalizer = preprocessing.StandardScaler(with_std=True)\n",
        "x_normalizer.fit(dataset.AvgTemperature.to_numpy().reshape(-1, 1))\n",
        "x_norm = x_normalizer.transform(dataset.AvgTemperature.to_numpy().reshape(-1, 1))"
      ],
      "metadata": {
        "id": "AMlME9Ou1jXO"
      },
      "execution_count": null,
      "outputs": []
    },
    {
      "cell_type": "markdown",
      "source": [
        "## Create the time series dataset using Time Series Data Generator"
      ],
      "metadata": {
        "id": "yxJHuI2glNjw"
      }
    },
    {
      "cell_type": "code",
      "source": [
        "time_serises = tf.keras.preprocessing.sequence.TimeseriesGenerator(\n",
        "    x_norm,dataset['AvgTemperature'].to_numpy().reshape(-1, 1), length=7, batch_size=32)"
      ],
      "metadata": {
        "id": "mpYcl0xZlW8g"
      },
      "execution_count": null,
      "outputs": []
    },
    {
      "cell_type": "code",
      "source": [
        "x, y = time_serises[0]"
      ],
      "metadata": {
        "id": "5BEmxB6Mjq86"
      },
      "execution_count": null,
      "outputs": []
    },
    {
      "cell_type": "code",
      "source": [
        "x[:3]"
      ],
      "metadata": {
        "id": "FezeaudjmEPY",
        "colab": {
          "base_uri": "https://localhost:8080/"
        },
        "outputId": "98e1f2d9-5e13-434b-88a9-a34ac6605842"
      },
      "execution_count": null,
      "outputs": [
        {
          "output_type": "execute_result",
          "data": {
            "text/plain": [
              "array([[[-0.75362085],\n",
              "        [-1.10818012],\n",
              "        [-1.4627394 ],\n",
              "        [-1.2884645 ],\n",
              "        [-0.92188627],\n",
              "        [-0.70554502],\n",
              "        [-0.8858294 ]],\n",
              "\n",
              "       [[-1.10818012],\n",
              "        [-1.4627394 ],\n",
              "        [-1.2884645 ],\n",
              "        [-0.92188627],\n",
              "        [-0.70554502],\n",
              "        [-0.8858294 ],\n",
              "        [-1.07813273]],\n",
              "\n",
              "       [[-1.4627394 ],\n",
              "        [-1.2884645 ],\n",
              "        [-0.92188627],\n",
              "        [-0.70554502],\n",
              "        [-0.8858294 ],\n",
              "        [-1.07813273],\n",
              "        [-0.92789575]]])"
            ]
          },
          "metadata": {},
          "execution_count": 19
        }
      ]
    },
    {
      "cell_type": "code",
      "source": [
        "y[:2]"
      ],
      "metadata": {
        "id": "4ZXpi3PumHja",
        "colab": {
          "base_uri": "https://localhost:8080/"
        },
        "outputId": "37996b3b-00ff-4690-f1a5-9f0024feeaf0"
      },
      "execution_count": null,
      "outputs": [
        {
          "output_type": "execute_result",
          "data": {
            "text/plain": [
              "array([[40.5],\n",
              "       [43. ]])"
            ]
          },
          "metadata": {},
          "execution_count": 20
        }
      ]
    },
    {
      "cell_type": "code",
      "source": [
        "print(x.shape)\n",
        "print(y.shape)"
      ],
      "metadata": {
        "id": "qMD088AamMGV",
        "colab": {
          "base_uri": "https://localhost:8080/"
        },
        "outputId": "ea7beb9f-6966-4839-edbc-74c448cef233"
      },
      "execution_count": null,
      "outputs": [
        {
          "output_type": "stream",
          "name": "stdout",
          "text": [
            "(32, 7, 1)\n",
            "(32, 1)\n"
          ]
        }
      ]
    },
    {
      "cell_type": "markdown",
      "source": [
        "## Create data from the generator and split the data into training and testing"
      ],
      "metadata": {
        "id": "g9J_FSPsjC1m"
      }
    },
    {
      "cell_type": "code",
      "source": [
        "train_data = np.array([])\n",
        "test_data = np.array([])\n",
        "for x, y in time_serises:\n",
        "    train_data = np.append(train_data, x)\n",
        "    test_data = np.append(test_data, y)"
      ],
      "metadata": {
        "id": "pAFT82lRm-ne"
      },
      "execution_count": null,
      "outputs": []
    },
    {
      "cell_type": "code",
      "source": [
        "print(train_data.shape)\n",
        "print(test_data.shape)"
      ],
      "metadata": {
        "id": "TnkxnR6iMq_k",
        "colab": {
          "base_uri": "https://localhost:8080/"
        },
        "outputId": "ba9e8b69-8685-4103-c2e5-d29478428dc2"
      },
      "execution_count": null,
      "outputs": [
        {
          "output_type": "stream",
          "name": "stdout",
          "text": [
            "(64813,)\n",
            "(9259,)\n"
          ]
        }
      ]
    },
    {
      "cell_type": "code",
      "source": [
        "plt.plot(train_data)"
      ],
      "metadata": {
        "id": "I_cVCkSCojar",
        "colab": {
          "base_uri": "https://localhost:8080/",
          "height": 447
        },
        "outputId": "345226df-7343-459d-db04-1a8aa480683f"
      },
      "execution_count": null,
      "outputs": [
        {
          "output_type": "execute_result",
          "data": {
            "text/plain": [
              "[<matplotlib.lines.Line2D at 0x7f2dc52c4220>]"
            ]
          },
          "metadata": {},
          "execution_count": 24
        },
        {
          "output_type": "display_data",
          "data": {
            "text/plain": [
              "<Figure size 640x480 with 1 Axes>"
            ],
            "image/png": "[encoded data removed]"
          },
          "metadata": {}
        }
      ]
    },
    {
      "cell_type": "markdown",
      "source": [
        "## Make sure the data shape is (batch_size,length,1) and the target shape is (batch_size,1)"
      ],
      "metadata": {
        "id": "W59_0wqGljSk"
      }
    },
    {
      "cell_type": "code",
      "source": [
        "x = train_data.reshape(-1, 7, 1)\n",
        "y = test_data.reshape(-1, 1)"
      ],
      "metadata": {
        "id": "PIAUX0MZllOu"
      },
      "execution_count": null,
      "outputs": []
    },
    {
      "cell_type": "code",
      "source": [
        "print(x.shape)\n",
        "print(y.shape)"
      ],
      "metadata": {
        "id": "9fi1vaYhjPGM",
        "colab": {
          "base_uri": "https://localhost:8080/"
        },
        "outputId": "7d0ec59c-b80c-46f5-ae10-ba9f97919f3d"
      },
      "execution_count": null,
      "outputs": [
        {
          "output_type": "stream",
          "name": "stdout",
          "text": [
            "(9259, 7, 1)\n",
            "(9259, 1)\n"
          ]
        }
      ]
    },
    {
      "cell_type": "markdown",
      "source": [
        "## Get the max value of the dataset"
      ],
      "metadata": {
        "id": "AD9MVwGWloHV"
      }
    },
    {
      "cell_type": "code",
      "source": [
        "scale = x_normalizer.scale_\n",
        "var = x_normalizer.var_\n",
        "mean = x_normalizer.mean_\n",
        "\n",
        "print(scale)\n",
        "print(var)\n",
        "print(mean)\n",
        "print(x_normalizer.n_samples_seen_)\n"
      ],
      "metadata": {
        "id": "Tm8qqF6zQ2Ev",
        "colab": {
          "base_uri": "https://localhost:8080/"
        },
        "outputId": "5d1ad7be-9b72-488f-e521-9147fb9ca58a"
      },
      "execution_count": null,
      "outputs": [
        {
          "output_type": "stream",
          "name": "stdout",
          "text": [
            "[16.64037721]\n",
            "[276.90215357]\n",
            "[58.44053529]\n",
            "9266\n"
          ]
        }
      ]
    },
    {
      "cell_type": "markdown",
      "source": [
        "## Create the Data Pipeline"
      ],
      "metadata": {
        "id": "THhkxVb_lvWF"
      }
    },
    {
      "cell_type": "code",
      "source": [
        "def dataset_creater(x, y):\n",
        "    data = tf.data.Dataset.from_tensor_slices((x, y))\n",
        "    data = data.shuffle(9259)\n",
        "    data = data.batch(32)\n",
        "    data = data.prefetch(tf.data.AUTOTUNE)\n",
        "    return data\n",
        "\n",
        "\n",
        "train_dataset = dataset_creater(x[:-100], y[:-100])"
      ],
      "metadata": {
        "id": "K-PCJIJelw1j"
      },
      "execution_count": null,
      "outputs": []
    },
    {
      "cell_type": "markdown",
      "source": [
        "## Create the Forecasting Model"
      ],
      "metadata": {
        "id": "KqRjGlWBlzbh"
      }
    },
    {
      "cell_type": "code",
      "source": [
        "model = tf.keras.Sequential(\n",
        "    [\n",
        "        tf.keras.layers.Input((7, 1)),\n",
        "        tf.keras.layers.Conv1D(7, kernel_size=3, padding=\"same\", activation=tf.nn.leaky_relu),\n",
        "        tf.keras.layers.GRU(32, return_sequences=True,kernel_initializer=tf.initializers.glorot_normal(seed=42)),\n",
        "        tf.keras.layers.GRU(64),\n",
        "        tf.keras.layers.Dense(1),\n",
        "        tf.keras.layers.Lambda(lambda x: x *(9622))\n",
        "    ]\n",
        ")\n"
      ],
      "metadata": {
        "id": "0sn9bMCCl09W"
      },
      "execution_count": null,
      "outputs": []
    },
    {
      "cell_type": "markdown",
      "source": [
        "##Training the model"
      ],
      "metadata": {
        "id": "z23e_XjHiS-z"
      }
    },
    {
      "cell_type": "code",
      "source": [
        "model.compile(optimizer=tf.optimizers.Adam(), loss=tf.losses.Huber())\n",
        "model.fit(train_dataset, epochs=50, validation_data=(x[-100:], y[-100:]))"
      ],
      "metadata": {
        "id": "t1ShtIQCaH_o",
        "colab": {
          "base_uri": "https://localhost:8080/"
        },
        "outputId": "69b7ed2d-06e8-4a10-e3ed-6237119aea2c"
      },
      "execution_count": null,
      "outputs": [
        {
          "output_type": "stream",
          "name": "stdout",
          "text": [
            "Epoch 1/50\n",
            "287/287 [==============================] - 22s 15ms/step - loss: 27.5949 - val_loss: 7.0374\n",
            "Epoch 2/50\n",
            "287/287 [==============================] - 3s 12ms/step - loss: 12.6040 - val_loss: 5.5918\n",
            "Epoch 3/50\n",
            "287/287 [==============================] - 3s 10ms/step - loss: 9.3747 - val_loss: 5.3019\n",
            "Epoch 4/50\n",
            "287/287 [==============================] - 3s 10ms/step - loss: 6.4340 - val_loss: 2.5990\n",
            "Epoch 5/50\n",
            "287/287 [==============================] - 2s 6ms/step - loss: 5.4703 - val_loss: 3.1724\n",
            "Epoch 6/50\n",
            "287/287 [==============================] - 2s 6ms/step - loss: 6.8546 - val_loss: 17.8705\n",
            "Epoch 7/50\n",
            "287/287 [==============================] - 2s 6ms/step - loss: 5.8058 - val_loss: 2.4255\n",
            "Epoch 8/50\n",
            "287/287 [==============================] - 2s 6ms/step - loss: 4.7340 - val_loss: 3.9693\n",
            "Epoch 9/50\n",
            "287/287 [==============================] - 5s 15ms/step - loss: 4.8163 - val_loss: 4.8710\n",
            "Epoch 10/50\n",
            "287/287 [==============================] - 3s 9ms/step - loss: 4.3496 - val_loss: 2.9696\n",
            "Epoch 11/50\n",
            "287/287 [==============================] - 3s 9ms/step - loss: 4.4856 - val_loss: 5.1190\n",
            "Epoch 12/50\n",
            "287/287 [==============================] - 3s 9ms/step - loss: 4.0567 - val_loss: 6.8533\n",
            "Epoch 13/50\n",
            "287/287 [==============================] - 3s 12ms/step - loss: 3.9866 - val_loss: 5.5181\n",
            "Epoch 14/50\n",
            "287/287 [==============================] - 2s 6ms/step - loss: 3.8103 - val_loss: 6.7702\n",
            "Epoch 15/50\n",
            "287/287 [==============================] - 2s 6ms/step - loss: 3.7194 - val_loss: 4.0863\n",
            "Epoch 16/50\n",
            "287/287 [==============================] - 2s 5ms/step - loss: 3.5381 - val_loss: 3.1521\n",
            "Epoch 17/50\n",
            "287/287 [==============================] - 2s 6ms/step - loss: 3.5055 - val_loss: 2.9468\n",
            "Epoch 18/50\n",
            "287/287 [==============================] - 2s 5ms/step - loss: 3.3671 - val_loss: 2.1809\n",
            "Epoch 19/50\n",
            "287/287 [==============================] - 2s 7ms/step - loss: 3.4576 - val_loss: 2.2402\n",
            "Epoch 20/50\n",
            "287/287 [==============================] - 2s 6ms/step - loss: 3.3508 - val_loss: 2.7627\n",
            "Epoch 21/50\n",
            "287/287 [==============================] - 2s 6ms/step - loss: 3.2887 - val_loss: 2.4194\n",
            "Epoch 22/50\n",
            "287/287 [==============================] - 2s 6ms/step - loss: 3.2214 - val_loss: 3.0484\n",
            "Epoch 23/50\n",
            "287/287 [==============================] - 2s 6ms/step - loss: 3.2015 - val_loss: 2.3969\n",
            "Epoch 24/50\n",
            "287/287 [==============================] - 2s 6ms/step - loss: 3.1378 - val_loss: 4.1645\n",
            "Epoch 25/50\n",
            "287/287 [==============================] - 2s 8ms/step - loss: 3.0409 - val_loss: 2.1959\n",
            "Epoch 26/50\n",
            "287/287 [==============================] - 2s 6ms/step - loss: 3.0701 - val_loss: 2.1172\n",
            "Epoch 27/50\n",
            "287/287 [==============================] - 2s 6ms/step - loss: 3.0734 - val_loss: 2.1350\n",
            "Epoch 28/50\n",
            "287/287 [==============================] - 2s 6ms/step - loss: 2.9278 - val_loss: 2.1743\n",
            "Epoch 29/50\n",
            "287/287 [==============================] - 2s 6ms/step - loss: 2.8836 - val_loss: 2.1788\n",
            "Epoch 30/50\n",
            "287/287 [==============================] - 2s 5ms/step - loss: 2.9688 - val_loss: 2.6580\n",
            "Epoch 31/50\n",
            "287/287 [==============================] - 2s 8ms/step - loss: 3.0033 - val_loss: 2.6308\n",
            "Epoch 32/50\n",
            "287/287 [==============================] - 2s 6ms/step - loss: 2.8697 - val_loss: 2.3448\n",
            "Epoch 33/50\n",
            "287/287 [==============================] - 2s 6ms/step - loss: 2.9340 - val_loss: 2.6084\n",
            "Epoch 34/50\n",
            "287/287 [==============================] - 2s 6ms/step - loss: 2.8313 - val_loss: 3.1322\n",
            "Epoch 35/50\n",
            "287/287 [==============================] - 2s 6ms/step - loss: 3.0176 - val_loss: 2.4874\n",
            "Epoch 36/50\n",
            "287/287 [==============================] - 2s 6ms/step - loss: 2.9305 - val_loss: 2.1881\n",
            "Epoch 37/50\n",
            "287/287 [==============================] - 2s 7ms/step - loss: 2.7814 - val_loss: 2.0845\n",
            "Epoch 38/50\n",
            "287/287 [==============================] - 2s 7ms/step - loss: 2.8177 - val_loss: 2.2172\n",
            "Epoch 39/50\n",
            "287/287 [==============================] - 2s 6ms/step - loss: 2.7846 - val_loss: 3.4144\n",
            "Epoch 40/50\n",
            "287/287 [==============================] - 2s 6ms/step - loss: 2.8397 - val_loss: 2.2826\n",
            "Epoch 41/50\n",
            "287/287 [==============================] - 2s 6ms/step - loss: 2.9017 - val_loss: 2.2331\n",
            "Epoch 42/50\n",
            "287/287 [==============================] - 2s 6ms/step - loss: 2.8382 - val_loss: 2.1837\n",
            "Epoch 43/50\n",
            "287/287 [==============================] - 4s 13ms/step - loss: 2.7873 - val_loss: 2.5075\n",
            "Epoch 44/50\n",
            "287/287 [==============================] - 3s 9ms/step - loss: 2.7700 - val_loss: 2.1685\n",
            "Epoch 45/50\n",
            "287/287 [==============================] - 2s 6ms/step - loss: 2.7631 - val_loss: 2.9404\n",
            "Epoch 46/50\n",
            "287/287 [==============================] - 2s 5ms/step - loss: 2.8422 - val_loss: 2.1604\n",
            "Epoch 47/50\n",
            "287/287 [==============================] - 2s 6ms/step - loss: 2.8360 - val_loss: 2.5015\n",
            "Epoch 48/50\n",
            "287/287 [==============================] - 2s 6ms/step - loss: 2.8405 - val_loss: 3.5749\n",
            "Epoch 49/50\n",
            "287/287 [==============================] - 2s 8ms/step - loss: 2.7730 - val_loss: 2.0688\n",
            "Epoch 50/50\n",
            "287/287 [==============================] - 2s 6ms/step - loss: 2.7235 - val_loss: 2.2407\n"
          ]
        },
        {
          "output_type": "execute_result",
          "data": {
            "text/plain": [
              "<keras.callbacks.History at 0x7f2dbf197df0>"
            ]
          },
          "metadata": {},
          "execution_count": 30
        }
      ]
    },
    {
      "cell_type": "markdown",
      "source": [
        "##Predict the last 100 sample of the x"
      ],
      "metadata": {
        "id": "MygkTJM8iXMQ"
      }
    },
    {
      "cell_type": "code",
      "source": [
        "pred = model.predict(x[-100:])"
      ],
      "metadata": {
        "id": "UlFp_gLCHsqN",
        "colab": {
          "base_uri": "https://localhost:8080/"
        },
        "outputId": "325511fe-95f0-428e-a383-7fe560edb14b"
      },
      "execution_count": null,
      "outputs": [
        {
          "output_type": "stream",
          "name": "stdout",
          "text": [
            "4/4 [==============================] - 1s 5ms/step\n"
          ]
        }
      ]
    },
    {
      "cell_type": "markdown",
      "source": [
        "# Plot the prediction\n",
        "Here we see the predicted and the actual values are close."
      ],
      "metadata": {
        "id": "QLjYDgLmiWt2"
      }
    },
    {
      "cell_type": "code",
      "source": [
        "plt.figure(figsize=(15, 8))\n",
        "true_y = y[-100:]\n",
        "plt.plot(true_y)\n",
        "plt.plot(pred.reshape(-1))"
      ],
      "metadata": {
        "id": "RVolKmQdID0E",
        "colab": {
          "base_uri": "https://localhost:8080/",
          "height": 693
        },
        "outputId": "decf66a7-aeb4-4417-d878-fc68f836a186"
      },
      "execution_count": null,
      "outputs": [
        {
          "output_type": "execute_result",
          "data": {
            "text/plain": [
              "[<matplotlib.lines.Line2D at 0x7f2da0613ee0>]"
            ]
          },
          "metadata": {},
          "execution_count": 32
        },
        {
          "output_type": "display_data",
          "data": {
            "text/plain": [
              "<Figure size 1500x800 with 1 Axes>"
            ],
            "image/png": "[encoded data removed]"
          },
          "metadata": {}
        }
      ]
    },
    {
      "cell_type": "markdown",
      "source": [
        "### Predict"
      ],
      "metadata": {
        "id": "gxUTOViex332"
      }
    },
    {
      "cell_type": "code",
      "source": [
        "a = [[-1.4627394 ],\n",
        "       [-1.2884645 ],\n",
        "       [-0.92188627],\n",
        "       [-0.70554502],\n",
        "       [-0.8858294 ],\n",
        "       [-1.07813273],\n",
        "       [-0.92789575]]\n",
        "\n",
        "\n",
        "def make_pred(x, days=1):\n",
        "    pred_list = []\n",
        "    for i in range(days):\n",
        "\n",
        "        pred = model.predict([x])\n",
        "        pred_list.append(pred.reshape(-1)[0])\n",
        "        x.pop(0)\n",
        "        x.append([pred[0][0] / 9622])\n",
        "\n",
        "    return pred_list\n",
        "\n",
        "\n",
        "pred = make_pred(a)\n",
        "true_y = y[1]\n",
        "print(\"predicted: \", pred)\n",
        "print(\"Actual: \", true_y)"
      ],
      "metadata": {
        "id": "Lg8ab2l0ouIT",
        "colab": {
          "base_uri": "https://localhost:8080/"
        },
        "outputId": "bc774ee2-4a0a-40ca-d0aa-610283b1b2ed"
      },
      "execution_count": null,
      "outputs": [
        {
          "output_type": "stream",
          "name": "stdout",
          "text": [
            "1/1 [==============================] - 0s 89ms/step\n",
            "1/1 [==============================] - 0s 121ms/step\n",
            "1/1 [==============================] - 0s 106ms/step\n",
            "predicted:  [44.46906]\n",
            "Actual:  [43.]\n"
          ]
        }
      ]
    },
    {
      "cell_type": "code",
      "source": [],
      "metadata": {
        "id": "gSRS-Dv04ZDn"
      },
      "execution_count": null,
      "outputs": []
    }
  ]
}
